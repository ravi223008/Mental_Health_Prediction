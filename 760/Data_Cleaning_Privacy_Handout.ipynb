{
  "cells": [
    {
      "cell_type": "markdown",
      "metadata": {},
      "source": [
        "# Research Data Cleaning & Privacy – Team Handout \n",
        "\n",
        "**Audience:** teammates and presenters  \n",
        "**Goal:** explain *what* our preprocessing does, *why* we do it, and *how* to reproduce it.  \n",
        "**Artifacts produced:** `clean_full.csv`, `clean_numeric.csv`, `label_mappings.json`, `cleaning_summary.txt` (+ privacy-safe tables in `reports/tables_public/`).\n"
      ]
    },
    {
      "cell_type": "markdown",
      "metadata": {},
      "source": [
        "## 1) Folder Layout & How to Run\n",
        "```\n",
        "repo/\n",
        "  data/                             # put the original CSV here\n",
        "    processed/                      # script writes here\n",
        "  reports/\n",
        "    tables_public/                  # privacy-safe tables (RR3)\n",
        "  Data Pre .py                      # relative-path script\n",
        "```\n",
        "\n",
        "**Run (default paths):**\n",
        "```bash\n",
        "python \"Data Pre.py\"\n",
        "```\n",
        "**Override paths (optional):**\n",
        "```bash\n",
        "python \"Data Pre.py\"   --input data/raw/your.csv   --out_dir data/processed   --pub_dir reports/tables_public\n",
        "```\n",
        "**Strictness toggle:** set `STRICT=True` in the script to fail on unmapped tokens (useful after first pass).\n"
      ]
    },
    {
      "cell_type": "markdown",
      "metadata": {},
      "source": [
        "## 2) Transformations – What, Why, How\n",
        "\n",
        "### 2.1 Missingness normalization\n",
        "**What:** Turn visual blanks and placeholders into true missing values.  \n",
        "**Why:** Avoid treating blanks like real categories.  \n",
        "**Rule:** Blank/whitespace → `NA`; case-insensitive placeholders `NA|N/A|null|none|-|--` → `NA`.\n",
        "\n",
        "### 2.2 Token normalization (string hygiene)\n",
        "**What:** Lowercase, trim, collapse non-alphanumerics to spaces; standardize common variants.  \n",
        "**Why:** Maximizes vocabulary hit-rate and prevents silent mapping failures.\n",
        "\n",
        "### 2.3 Binary encoding\n",
        "**What:** Normalize yes/no-like fields to {1,0}, keep others as `NA`.  \n",
        "**Why:** Consolidates many spellings (`yes,y,true,1,...`) into one signal.  \n",
        "**Rule:** `{yes,y,true,t,1,ever,present,positive}→1`; `{no,n,false,f,0,never,absent,negative}→0`.\n",
        "\n",
        "### 2.4 Ordinal encoding\n",
        "**What:** Map ordered categories to integers; also derive binary thresholds.  \n",
        "**Why:** Preserve order information (more signal than one-hot for these).  \n",
        "**Vocabularies:**\n",
        "- `Smoking_Habit`: `{non-smoker:0, occasional smoker:1, regular smoker:2, heavy smoker:3}` → binary `>=2`\n",
        "- `Alcohol_Consumption`: `{non-drinker:0, social drinker:1, regular drinker:2, heavy drinker:3}` → binary `>=2`\n",
        "- `Diet_Quality`: `{unhealthy:0, average:1, healthy:2}`\n",
        "- `Severity`: `{low:0, medium:1, high:2}`\n",
        "- `Stress_Level`: `{low:0, medium:1, high:2}` (**treated as ordinal, not a 1–10 score**)\n",
        "\n",
        "### 2.5 Continuous range clipping\n",
        "**What:** Replace out-of-range numeric values with `NA` using a data dictionary.  \n",
        "**Why:** Remove obvious errors/outliers to stabilize learning.  \n",
        "**Ranges:** Age [10,100], Sleep [0,16], Work [0,100], Physical Activity [0,20], Social Media [0,24].\n",
        "\n",
        "### 2.6 De-duplication\n",
        "Drop duplicates (prefer `ID` if present).\n",
        "\n",
        "### 2.7 Label encoding (nominal)\n",
        "Encode nominal fields into integers and save mapping JSON:  \n",
        "`Gender_norm`, `Occupation`, `Country`, `Relationship_Status_norm`, `Mental_Health_Condition` → `*_lbl` + `label_mappings.json`.\n",
        "\n",
        "### 2.8 Drop constant/low-variance columns\n",
        "Remove columns with `<2` distinct values (incl. NA).\n",
        "\n",
        "### 2.9 Simple imputation (numeric view only)\n",
        "On `clean_numeric.csv`: integer/boolean → **mode**; other numeric → **median**.  \n",
        "Keep NA in `clean_full.csv` for honest analysis.\n"
      ]
    },
    {
      "cell_type": "markdown",
      "metadata": {},
      "source": [
        "## 3) Privacy by Design\n",
        "\n",
        "### 3.1 De-identification & generalization\n",
        "- **Age banding:** add `AgeBand` (20-year buckets) for public views.  \n",
        "- **Low-frequency merge:** rare `Occupation`/`Country` → `\"Other\"` for public release.\n",
        "\n",
        "### 3.2 k-Anonymity checks\n",
        "Group by `{Gender_norm × Country_pub × Occupation_pub × AgeBand}`; flag groups with count `< k` (default `k=5`).  \n",
        "Adjust banding or raise the low-frequency threshold until violations drop.\n",
        "\n",
        "### 3.3 RR3 randomized rounding (public tables)\n",
        "First suppress cells `<3`, then stochastically round remaining counts to multiples of 3 (RR3).  \n",
        "We publish examples to `reports/tables_public/`.\n"
      ]
    },
    {
      "cell_type": "markdown",
      "metadata": {},
      "source": [
        "## 4) Quality Assurance & Reproducibility\n",
        "- **STRICT mode:** after a trial run, set `STRICT=True` to surface unmapped tokens; add synonyms or fix data.  \n",
        "- **Summary file:** `cleaning_summary.txt` logs rows/cols, dropped constants, NA rates for key fields, k-anonymity status.  \n",
        "- **Determinism:** RR3 uses a fixed RNG seed (set `SEED`) for reproducible demos.  \n",
        "- **No leakage:** encoders/transformers are defined independent of any train/test split; when modeling, fit them on the **training** split.\n"
      ]
    },
    {
      "cell_type": "markdown",
      "metadata": {},
      "source": [
        "## 5) Common Pitfalls (and quick fixes)\n",
        "- **Columns not found** (`Smoking Habit` vs `Smoking_Habit`): the script resolves case/spaces, but always verify raw headers.  \n",
        "- **Everything becomes NA after clipping:** you may be applying numeric ranges to textual ordinal fields (e.g., `Stress_Level`). Treat as ordinal instead.  \n",
        "- **Unknown category explosion:** add synonyms to the mapping extension, or switch to `STRICT=True` to get the exact tokens to fix.\n"
      ]
    }
  ],
  "metadata": {
    "authors": [
      {
        "name": "Team 760"
      }
    ],
    "created": "2025-09-17T01:48:44.634258Z",
    "kernelspec": {
      "display_name": "Python 3",
      "language": "python",
      "name": "python3"
    },
    "language_info": {
      "name": "python",
      "version": "3.x"
    }
  },
  "nbformat": 4,
  "nbformat_minor": 5
}
